{
 "cells": [
  {
   "cell_type": "markdown",
   "metadata": {},
   "source": [
    "# Baseline model for batch monitoring example"
   ]
  },
  {
   "cell_type": "code",
   "execution_count": 5,
   "metadata": {},
   "outputs": [
    {
     "data": {
      "text/plain": [
       "True"
      ]
     },
     "execution_count": 5,
     "metadata": {},
     "output_type": "execute_result"
    }
   ],
   "source": [
    "import requests\n",
    "import datetime\n",
    "import pandas as pd\n",
    "from tqdm import tqdm\n",
    "\n",
    "import psycopg\n",
    "import os\n",
    "\n",
    "from dotenv import load_dotenv\n",
    "load_dotenv()"
   ]
  },
  {
   "cell_type": "code",
   "execution_count": 6,
   "metadata": {},
   "outputs": [
    {
     "name": "stdout",
     "output_type": "stream",
     "text": [
      "Download files:\n"
     ]
    },
    {
     "name": "stderr",
     "output_type": "stream",
     "text": [
      "green_tripdata_2024-03.parquet:   0%|          | 0/1372372 [00:00<?, ?it/s, save to ./data/green_tripdata_2024-03.parquet]"
     ]
    },
    {
     "name": "stderr",
     "output_type": "stream",
     "text": [
      "green_tripdata_2024-03.parquet: 100%|██████████| 1372372/1372372 [00:10<00:00, 128310.19it/s, save to ./data/green_tripdata_2024-03.parquet]\n"
     ]
    }
   ],
   "source": [
    "files = [('green_tripdata_2024-03.parquet', './data')]\n",
    "\n",
    "print(\"Download files:\")\n",
    "for file, path in files:\n",
    "    url=f\"https://d37ci6vzurychx.cloudfront.net/trip-data/{file}\"\n",
    "    resp=requests.get(url, stream=True)\n",
    "    save_path=f\"{path}/{file}\"\n",
    "    with open(save_path, \"wb\") as handle:\n",
    "        for data in tqdm(resp.iter_content(),\n",
    "                        desc=f\"{file}\",\n",
    "                        postfix=f\"save to {save_path}\",\n",
    "                        total=int(resp.headers[\"Content-Length\"])):\n",
    "            handle.write(data)"
   ]
  },
  {
   "cell_type": "code",
   "execution_count": 7,
   "metadata": {},
   "outputs": [],
   "source": [
    "mar_data = pd.read_parquet('data/green_tripdata_2024-03.parquet')"
   ]
  },
  {
   "cell_type": "code",
   "execution_count": 8,
   "metadata": {},
   "outputs": [
    {
     "name": "stdout",
     "output_type": "stream",
     "text": [
      "Shape: (57457, 20) \n",
      " Row count: 57457\n"
     ]
    }
   ],
   "source": [
    "# Q1.What is the shape of the downloaded data? How many rows are there?\n",
    "print(f\"Shape: {mar_data.shape} \\n Row count: {mar_data.shape[0]}\")"
   ]
  },
  {
   "cell_type": "code",
   "execution_count": 9,
   "metadata": {},
   "outputs": [
    {
     "name": "stdout",
     "output_type": "stream",
     "text": [
      "\u001b[33mWARN\u001b[0m[0000] /workspaces/mlops-zoomcamp/05-monitoring/docker-compose.yml: `version` is obsolete \n",
      "\u001b[1A\u001b[1B\u001b[0G\u001b[?25l[+] Running 3/0\n",
      " \u001b[32m✔\u001b[0m Container 05-monitoring-adminer-1  \u001b[32mRunning\u001b[0m                              \u001b[34m0.0s \u001b[0m\n",
      " \u001b[32m✔\u001b[0m Container 05-monitoring-grafana-1  \u001b[32mRunning\u001b[0m                              \u001b[34m0.0s \u001b[0m\n",
      " \u001b[32m✔\u001b[0m Container 05-monitoring-db-1       \u001b[32mRu...\u001b[0m                                \u001b[34m0.0s \u001b[0m\n",
      "\u001b[?25h"
     ]
    }
   ],
   "source": [
    "# Q2 Q3\n",
    "!docker-compose up --build -d"
   ]
  },
  {
   "cell_type": "code",
   "execution_count": 10,
   "metadata": {},
   "outputs": [
    {
     "name": "stdout",
     "output_type": "stream",
     "text": [
      "host=localhost port=5432 dbname=postgres user=root password=example\n",
      "2024-06-18 20:18:02,729 [WARNING]: Column ehail_fee have different types in reference object and current float64. Returning type from reference\n",
      "2024-06-18 20:18:03,033 [INFO]: data sent\n",
      "2024-06-18 20:18:03,047 [WARNING]: Column ehail_fee have different types in reference object and current float64. Returning type from reference\n",
      "2024-06-18 20:18:22,717 [INFO]: data sent\n",
      "2024-06-18 20:18:22,728 [WARNING]: Column ehail_fee have different types in reference object and current float64. Returning type from reference\n",
      "2024-06-18 20:18:22,990 [INFO]: data sent\n",
      "2024-06-18 20:18:23,006 [WARNING]: Column ehail_fee have different types in reference object and current float64. Returning type from reference\n",
      "2024-06-18 20:18:42,724 [INFO]: data sent\n",
      "2024-06-18 20:18:42,740 [WARNING]: Column ehail_fee have different types in reference object and current float64. Returning type from reference\n",
      "2024-06-18 20:18:43,175 [INFO]: data sent\n",
      "2024-06-18 20:18:43,208 [WARNING]: Column ehail_fee have different types in reference object and current float64. Returning type from reference\n",
      "2024-06-18 20:19:02,708 [INFO]: data sent\n",
      "2024-06-18 20:19:02,723 [WARNING]: Column ehail_fee have different types in reference object and current float64. Returning type from reference\n",
      "2024-06-18 20:19:03,123 [INFO]: data sent\n",
      "2024-06-18 20:19:03,138 [WARNING]: Column ehail_fee have different types in reference object and current float64. Returning type from reference\n",
      "2024-06-18 20:19:22,720 [INFO]: data sent\n",
      "2024-06-18 20:19:22,735 [WARNING]: Column ehail_fee have different types in reference object and current float64. Returning type from reference\n",
      "2024-06-18 20:19:23,124 [INFO]: data sent\n",
      "2024-06-18 20:19:23,135 [WARNING]: Column ehail_fee have different types in reference object and current float64. Returning type from reference\n",
      "2024-06-18 20:19:42,724 [INFO]: data sent\n",
      "2024-06-18 20:19:42,740 [WARNING]: Column ehail_fee have different types in reference object and current float64. Returning type from reference\n",
      "2024-06-18 20:19:43,039 [INFO]: data sent\n",
      "2024-06-18 20:19:43,057 [WARNING]: Column ehail_fee have different types in reference object and current float64. Returning type from reference\n",
      "2024-06-18 20:20:02,723 [INFO]: data sent\n",
      "2024-06-18 20:20:02,739 [WARNING]: Column ehail_fee have different types in reference object and current float64. Returning type from reference\n",
      "2024-06-18 20:20:03,059 [INFO]: data sent\n",
      "2024-06-18 20:20:03,074 [WARNING]: Column ehail_fee have different types in reference object and current float64. Returning type from reference\n",
      "2024-06-18 20:20:22,720 [INFO]: data sent\n",
      "2024-06-18 20:20:22,738 [WARNING]: Column ehail_fee have different types in reference object and current float64. Returning type from reference\n",
      "2024-06-18 20:20:23,155 [INFO]: data sent\n",
      "2024-06-18 20:20:23,170 [WARNING]: Column ehail_fee have different types in reference object and current float64. Returning type from reference\n",
      "2024-06-18 20:20:42,720 [INFO]: data sent\n",
      "2024-06-18 20:20:42,732 [WARNING]: Column ehail_fee have different types in reference object and current float64. Returning type from reference\n",
      "2024-06-18 20:20:43,163 [INFO]: data sent\n",
      "2024-06-18 20:20:43,180 [WARNING]: Column ehail_fee have different types in reference object and current float64. Returning type from reference\n",
      "2024-06-18 20:21:02,708 [INFO]: data sent\n",
      "2024-06-18 20:21:02,727 [WARNING]: Column ehail_fee have different types in reference object and current float64. Returning type from reference\n",
      "2024-06-18 20:21:03,104 [INFO]: data sent\n",
      "2024-06-18 20:21:03,119 [WARNING]: Column ehail_fee have different types in reference object and current float64. Returning type from reference\n",
      "2024-06-18 20:21:22,720 [INFO]: data sent\n",
      "2024-06-18 20:21:22,755 [WARNING]: Column ehail_fee have different types in reference object and current float64. Returning type from reference\n",
      "2024-06-18 20:21:23,129 [INFO]: data sent\n",
      "2024-06-18 20:21:23,154 [WARNING]: Column ehail_fee have different types in reference object and current float64. Returning type from reference\n",
      "2024-06-18 20:21:42,720 [INFO]: data sent\n",
      "2024-06-18 20:21:42,732 [WARNING]: Column ehail_fee have different types in reference object and current float64. Returning type from reference\n",
      "2024-06-18 20:21:43,228 [INFO]: data sent\n",
      "2024-06-18 20:21:43,239 [WARNING]: Column ehail_fee have different types in reference object and current float64. Returning type from reference\n",
      "2024-06-18 20:22:02,724 [INFO]: data sent\n",
      "2024-06-18 20:22:02,739 [WARNING]: Column ehail_fee have different types in reference object and current float64. Returning type from reference\n",
      "2024-06-18 20:22:03,151 [INFO]: data sent\n",
      "2024-06-18 20:22:03,167 [WARNING]: Column ehail_fee have different types in reference object and current float64. Returning type from reference\n",
      "2024-06-18 20:22:22,720 [INFO]: data sent\n",
      "2024-06-18 20:22:22,736 [WARNING]: Column ehail_fee have different types in reference object and current float64. Returning type from reference\n",
      "2024-06-18 20:22:23,143 [INFO]: data sent\n",
      "2024-06-18 20:22:23,158 [WARNING]: Column ehail_fee have different types in reference object and current float64. Returning type from reference\n",
      "2024-06-18 20:22:42,720 [INFO]: data sent\n",
      "2024-06-18 20:22:42,752 [WARNING]: Column ehail_fee have different types in reference object and current float64. Returning type from reference\n",
      "2024-06-18 20:22:43,074 [INFO]: data sent\n",
      "2024-06-18 20:22:43,089 [WARNING]: Column ehail_fee have different types in reference object and current float64. Returning type from reference\n",
      "2024-06-18 20:23:02,724 [INFO]: data sent\n",
      "2024-06-18 20:23:02,737 [WARNING]: Column ehail_fee have different types in reference object and current float64. Returning type from reference\n",
      "2024-06-18 20:23:03,131 [INFO]: data sent\n"
     ]
    }
   ],
   "source": [
    "# Q2 Q3\n",
    "!python evidently_metrics_calculation.py"
   ]
  },
  {
   "cell_type": "code",
   "execution_count": 11,
   "metadata": {},
   "outputs": [
    {
     "name": "stdout",
     "output_type": "stream",
     "text": [
      "\u001b[33mWARN\u001b[0m[0000] /workspaces/mlops-zoomcamp/05-monitoring/docker-compose.yml: `version` is obsolete \n",
      "\u001b[1A\u001b[1B\u001b[0G\u001b[?25l[+] Running 0/0\n",
      " \u001b[33m⠋\u001b[0m Container 05-monitoring-db-1       St...                                \u001b[34m0.1s \u001b[0m\n",
      " \u001b[33m⠋\u001b[0m Container 05-monitoring-grafana-1  Stopping                             \u001b[34m0.1s \u001b[0m\n",
      " \u001b[33m⠋\u001b[0m Container 05-monitoring-adminer-1  Stopping                             \u001b[34m0.1s \u001b[0m\n",
      "\u001b[?25h\u001b[1A\u001b[1A\u001b[1A\u001b[1A\u001b[0G\u001b[?25l[+] Running 0/3\n",
      " \u001b[33m⠙\u001b[0m Container 05-monitoring-db-1       St...                                \u001b[34m0.2s \u001b[0m\n",
      " \u001b[33m⠙\u001b[0m Container 05-monitoring-grafana-1  Stopping                             \u001b[34m0.2s \u001b[0m\n",
      " \u001b[33m⠙\u001b[0m Container 05-monitoring-adminer-1  Stopping                             \u001b[34m0.2s \u001b[0m\n",
      "\u001b[?25h\u001b[1A\u001b[1A\u001b[1A\u001b[1A\u001b[0G\u001b[?25l[+] Running 0/3\n",
      " \u001b[33m⠹\u001b[0m Container 05-monitoring-db-1       St...                                \u001b[34m0.3s \u001b[0m\n",
      " \u001b[33m⠹\u001b[0m Container 05-monitoring-grafana-1  Stopping                             \u001b[34m0.3s \u001b[0m\n",
      " \u001b[33m⠹\u001b[0m Container 05-monitoring-adminer-1  Stopping                             \u001b[34m0.3s \u001b[0m\n",
      "\u001b[?25h\u001b[1A\u001b[1A\u001b[1A\u001b[1A\u001b[0G\u001b[?25l[+] Running 0/3\n",
      " \u001b[33m⠸\u001b[0m Container 05-monitoring-db-1       St...                                \u001b[34m0.4s \u001b[0m\n",
      " \u001b[33m⠸\u001b[0m Container 05-monitoring-grafana-1  Stopping                             \u001b[34m0.4s \u001b[0m\n",
      " \u001b[33m⠸\u001b[0m Container 05-monitoring-adminer-1  Stopping                             \u001b[34m0.4s \u001b[0m\n",
      "\u001b[?25h\u001b[1A\u001b[1A\u001b[1A\u001b[1A\u001b[0G\u001b[?25l[+] Running 0/3\n",
      " \u001b[33m⠼\u001b[0m Container 05-monitoring-db-1       St...                                \u001b[34m0.5s \u001b[0m\n",
      " \u001b[33m⠼\u001b[0m Container 05-monitoring-grafana-1  Stopping                             \u001b[34m0.5s \u001b[0m\n",
      " \u001b[33m⠼\u001b[0m Container 05-monitoring-adminer-1  Stopping                             \u001b[34m0.5s \u001b[0m\n",
      "\u001b[?25h\u001b[1A\u001b[1A\u001b[1A\u001b[1A\u001b[0G\u001b[?25l[+] Running 0/3\n",
      " \u001b[33m⠴\u001b[0m Container 05-monitoring-db-1       St...                                \u001b[34m0.6s \u001b[0m\n",
      " \u001b[33m⠴\u001b[0m Container 05-monitoring-grafana-1  Stopping                             \u001b[34m0.6s \u001b[0m\n",
      " \u001b[33m⠴\u001b[0m Container 05-monitoring-adminer-1  Stopping                             \u001b[34m0.6s \u001b[0m\n",
      "\u001b[?25h\u001b[1A\u001b[1A\u001b[1A\u001b[1A\u001b[0G\u001b[?25l[+] Running 0/3\n",
      " \u001b[33m⠦\u001b[0m Container 05-monitoring-db-1       St...                                \u001b[34m0.7s \u001b[0m\n",
      " \u001b[33m⠦\u001b[0m Container 05-monitoring-grafana-1  Stopping                             \u001b[34m0.7s \u001b[0m\n",
      " \u001b[33m⠦\u001b[0m Container 05-monitoring-adminer-1  Stopping                             \u001b[34m0.7s \u001b[0m\n",
      "\u001b[?25h\u001b[1A\u001b[1A\u001b[1A\u001b[1A\u001b[0G\u001b[?25l[+] Running 0/3\n",
      " \u001b[33m⠧\u001b[0m Container 05-monitoring-db-1       St...                                \u001b[34m0.8s \u001b[0m\n",
      " \u001b[33m⠧\u001b[0m Container 05-monitoring-grafana-1  Stopping                             \u001b[34m0.8s \u001b[0m\n",
      " \u001b[33m⠧\u001b[0m Container 05-monitoring-adminer-1  Stopping                             \u001b[34m0.8s \u001b[0m\n",
      "\u001b[?25h\u001b[1A\u001b[1A\u001b[1A\u001b[1A\u001b[0G\u001b[?25l[+] Running 0/3\n",
      " \u001b[33m⠇\u001b[0m Container 05-monitoring-db-1       St...                                \u001b[34m0.9s \u001b[0m\n",
      " \u001b[33m⠇\u001b[0m Container 05-monitoring-grafana-1  Stopping                             \u001b[34m0.9s \u001b[0m\n",
      " \u001b[33m⠇\u001b[0m Container 05-monitoring-adminer-1  Stopping                             \u001b[34m0.9s \u001b[0m\n",
      "\u001b[?25h\u001b[1A\u001b[1A\u001b[1A\u001b[1A\u001b[0G\u001b[?25l[+] Running 0/3\n",
      " \u001b[33m⠏\u001b[0m Container 05-monitoring-db-1       Re...                                \u001b[34m1.0s \u001b[0m\n",
      " \u001b[33m⠏\u001b[0m Container 05-monitoring-grafana-1  Stopping                             \u001b[34m1.0s \u001b[0m\n",
      " \u001b[33m⠏\u001b[0m Container 05-monitoring-adminer-1  Stopping                             \u001b[34m1.0s \u001b[0m\n",
      "\u001b[?25h\u001b[1A\u001b[1A\u001b[1A\u001b[1A\u001b[0G\u001b[?25l[+] Running 1/3\n",
      " \u001b[32m✔\u001b[0m Container 05-monitoring-db-1       \u001b[32mRe...\u001b[0m                                \u001b[34m1.0s \u001b[0m\n",
      " \u001b[33m⠋\u001b[0m Container 05-monitoring-grafana-1  Stopping                             \u001b[34m1.1s \u001b[0m\n",
      " \u001b[33m⠋\u001b[0m Container 05-monitoring-adminer-1  Removing                             \u001b[34m1.1s \u001b[0m\n",
      "\u001b[?25h\u001b[1A\u001b[1A\u001b[1A\u001b[1A\u001b[0G\u001b[?25l[+] Running 2/3\n",
      " \u001b[32m✔\u001b[0m Container 05-monitoring-db-1       \u001b[32mRe...\u001b[0m                                \u001b[34m1.0s \u001b[0m\n",
      " \u001b[33m⠙\u001b[0m Container 05-monitoring-grafana-1  Removing                             \u001b[34m1.2s \u001b[0m\n",
      " \u001b[32m✔\u001b[0m Container 05-monitoring-adminer-1  \u001b[32mRemoved\u001b[0m                              \u001b[34m1.1s \u001b[0m\n",
      "\u001b[?25h\u001b[1A\u001b[1A\u001b[1A\u001b[1A\u001b[0G\u001b[?25l\u001b[34m[+] Running 3/3\u001b[0m\n",
      " \u001b[32m✔\u001b[0m Container 05-monitoring-db-1       \u001b[32mRe...\u001b[0m                                \u001b[34m1.0s \u001b[0m\n",
      " \u001b[32m✔\u001b[0m Container 05-monitoring-grafana-1  \u001b[32mRemoved\u001b[0m                              \u001b[34m1.2s \u001b[0m\n",
      " \u001b[32m✔\u001b[0m Container 05-monitoring-adminer-1  \u001b[32mRemoved\u001b[0m                              \u001b[34m1.1s \u001b[0m\n",
      " \u001b[33m⠋\u001b[0m Network 05-monitoring_back-tier    Removing                             \u001b[34m0.1s \u001b[0m\n",
      " \u001b[33m⠋\u001b[0m Network 05-monitoring_front-tier   Removing                             \u001b[34m0.1s \u001b[0m\n",
      "\u001b[?25h\u001b[1A\u001b[1A\u001b[1A\u001b[1A\u001b[1A\u001b[1A\u001b[0G\u001b[?25l[+] Running 4/5\n",
      " \u001b[32m✔\u001b[0m Container 05-monitoring-db-1       \u001b[32mRe...\u001b[0m                                \u001b[34m1.0s \u001b[0m\n",
      " \u001b[32m✔\u001b[0m Container 05-monitoring-grafana-1  \u001b[32mRemoved\u001b[0m                              \u001b[34m1.2s \u001b[0m\n",
      " \u001b[32m✔\u001b[0m Container 05-monitoring-adminer-1  \u001b[32mRemoved\u001b[0m                              \u001b[34m1.1s \u001b[0m\n",
      " \u001b[32m✔\u001b[0m Network 05-monitoring_back-tier    \u001b[32mRemoved\u001b[0m                              \u001b[34m0.2s \u001b[0m\n",
      " \u001b[33m⠙\u001b[0m Network 05-monitoring_front-tier   Removing                             \u001b[34m0.2s \u001b[0m\n",
      "\u001b[?25h\u001b[1A\u001b[1A\u001b[1A\u001b[1A\u001b[1A\u001b[1A\u001b[0G\u001b[?25l\u001b[34m[+] Running 5/5\u001b[0m\n",
      " \u001b[32m✔\u001b[0m Container 05-monitoring-db-1       \u001b[32mRe...\u001b[0m                                \u001b[34m1.0s \u001b[0m\n",
      " \u001b[32m✔\u001b[0m Container 05-monitoring-grafana-1  \u001b[32mRemoved\u001b[0m                              \u001b[34m1.2s \u001b[0m\n",
      " \u001b[32m✔\u001b[0m Container 05-monitoring-adminer-1  \u001b[32mRemoved\u001b[0m                              \u001b[34m1.1s \u001b[0m\n",
      " \u001b[32m✔\u001b[0m Network 05-monitoring_back-tier    \u001b[32mRemoved\u001b[0m                              \u001b[34m0.2s \u001b[0m\n",
      " \u001b[32m✔\u001b[0m Network 05-monitoring_front-tier   \u001b[32mRemoved\u001b[0m                              \u001b[34m0.3s \u001b[0m\n",
      "\u001b[?25h"
     ]
    }
   ],
   "source": [
    "!docker-compose down"
   ]
  }
 ],
 "metadata": {
  "kernelspec": {
   "display_name": "05-monitoring-mxyq8G57",
   "language": "python",
   "name": "python3"
  },
  "language_info": {
   "codemirror_mode": {
    "name": "ipython",
    "version": 3
   },
   "file_extension": ".py",
   "mimetype": "text/x-python",
   "name": "python",
   "nbconvert_exporter": "python",
   "pygments_lexer": "ipython3",
   "version": "3.10.13"
  }
 },
 "nbformat": 4,
 "nbformat_minor": 2
}
