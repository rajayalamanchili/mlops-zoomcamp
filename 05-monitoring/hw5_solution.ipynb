{
 "cells": [
  {
   "cell_type": "markdown",
   "metadata": {},
   "source": [
    "# Baseline model for batch monitoring example"
   ]
  },
  {
   "cell_type": "code",
   "execution_count": 7,
   "metadata": {},
   "outputs": [],
   "source": [
    "import requests\n",
    "import pandas as pd\n",
    "from tqdm import tqdm\n",
    "import psycopg\n",
    "import os\n"
   ]
  },
  {
   "cell_type": "code",
   "execution_count": 2,
   "metadata": {},
   "outputs": [
    {
     "data": {
      "text/plain": [
       "True"
      ]
     },
     "execution_count": 2,
     "metadata": {},
     "output_type": "execute_result"
    }
   ],
   "source": [
    "from dotenv import load_dotenv\n",
    "load_dotenv()"
   ]
  },
  {
   "cell_type": "code",
   "execution_count": 6,
   "metadata": {},
   "outputs": [
    {
     "name": "stdout",
     "output_type": "stream",
     "text": [
      "Download files:\n"
     ]
    },
    {
     "name": "stderr",
     "output_type": "stream",
     "text": [
      "green_tripdata_2024-03.parquet:   0%|          | 0/1372372 [00:00<?, ?it/s, save to ./data/green_tripdata_2024-03.parquet]"
     ]
    },
    {
     "name": "stderr",
     "output_type": "stream",
     "text": [
      "green_tripdata_2024-03.parquet: 100%|██████████| 1372372/1372372 [00:10<00:00, 128310.19it/s, save to ./data/green_tripdata_2024-03.parquet]\n"
     ]
    }
   ],
   "source": [
    "files = [('green_tripdata_2024-03.parquet', './data')]\n",
    "\n",
    "print(\"Download files:\")\n",
    "for file, path in files:\n",
    "    url=f\"https://d37ci6vzurychx.cloudfront.net/trip-data/{file}\"\n",
    "    resp=requests.get(url, stream=True)\n",
    "    save_path=f\"{path}/{file}\"\n",
    "    with open(save_path, \"wb\") as handle:\n",
    "        for data in tqdm(resp.iter_content(),\n",
    "                        desc=f\"{file}\",\n",
    "                        postfix=f\"save to {save_path}\",\n",
    "                        total=int(resp.headers[\"Content-Length\"])):\n",
    "            handle.write(data)"
   ]
  },
  {
   "cell_type": "code",
   "execution_count": 7,
   "metadata": {},
   "outputs": [],
   "source": [
    "mar_data = pd.read_parquet('data/green_tripdata_2024-03.parquet')"
   ]
  },
  {
   "cell_type": "code",
   "execution_count": 8,
   "metadata": {},
   "outputs": [
    {
     "name": "stdout",
     "output_type": "stream",
     "text": [
      "Shape: (57457, 20) \n",
      " Row count: 57457\n"
     ]
    }
   ],
   "source": [
    "# Q1.What is the shape of the downloaded data? How many rows are there?\n",
    "print(f\"Shape: {mar_data.shape} \\n Row count: {mar_data.shape[0]}\")"
   ]
  },
  {
   "cell_type": "code",
   "execution_count": 3,
   "metadata": {},
   "outputs": [
    {
     "name": "stdout",
     "output_type": "stream",
     "text": [
      "\u001b[33mWARN\u001b[0m[0000] /workspaces/mlops-zoomcamp/05-monitoring/docker-compose.yml: `version` is obsolete \n",
      "\u001b[1A\u001b[1B\u001b[0G\u001b[?25l[+] Running 0/0\n",
      " \u001b[33m⠋\u001b[0m Network 05-monitoring_front-tier  Creating                              \u001b[34m0.1s \u001b[0m\n",
      "\u001b[?25h\u001b[1A\u001b[1A\u001b[0G\u001b[?25l\u001b[34m[+] Running 1/1\u001b[0m\n",
      " \u001b[32m✔\u001b[0m Network 05-monitoring_front-tier  \u001b[32mCreated\u001b[0m                               \u001b[34m0.1s \u001b[0m\n",
      " \u001b[33m⠋\u001b[0m Network 05-monitoring_back-tier   Creating                              \u001b[34m0.1s \u001b[0m\n",
      "\u001b[?25h\u001b[1A\u001b[1A\u001b[1A\u001b[0G\u001b[?25l\u001b[34m[+] Running 2/2\u001b[0m\n",
      " \u001b[32m✔\u001b[0m Network 05-monitoring_front-tier   \u001b[32mCreated\u001b[0m                              \u001b[34m0.1s \u001b[0m\n",
      " \u001b[32m✔\u001b[0m Network 05-monitoring_back-tier    \u001b[32mCreated\u001b[0m                              \u001b[34m0.1s \u001b[0m\n",
      " \u001b[33m⠋\u001b[0m Container 05-monitoring-grafana-1  Creating                             \u001b[34m0.1s \u001b[0m\n",
      " \u001b[33m⠋\u001b[0m Container 05-monitoring-adminer-1  Creating                             \u001b[34m0.1s \u001b[0m\n",
      " \u001b[33m⠋\u001b[0m Container 05-monitoring-db-1       Cr...                                \u001b[34m0.1s \u001b[0m\n",
      "\u001b[?25h\u001b[1A\u001b[1A\u001b[1A\u001b[1A\u001b[1A\u001b[1A\u001b[0G\u001b[?25l[+] Running 2/5\n",
      " \u001b[32m✔\u001b[0m Network 05-monitoring_front-tier   \u001b[32mCreated\u001b[0m                              \u001b[34m0.1s \u001b[0m\n",
      " \u001b[32m✔\u001b[0m Network 05-monitoring_back-tier    \u001b[32mCreated\u001b[0m                              \u001b[34m0.1s \u001b[0m\n",
      " \u001b[33m⠙\u001b[0m Container 05-monitoring-grafana-1  Creating                             \u001b[34m0.2s \u001b[0m\n",
      " \u001b[33m⠙\u001b[0m Container 05-monitoring-adminer-1  Creating                             \u001b[34m0.2s \u001b[0m\n",
      " \u001b[33m⠙\u001b[0m Container 05-monitoring-db-1       Cr...                                \u001b[34m0.2s \u001b[0m\n",
      "\u001b[?25h\u001b[1A\u001b[1A\u001b[1A\u001b[1A\u001b[1A\u001b[1A\u001b[0G\u001b[?25l[+] Running 2/5\n",
      " \u001b[32m✔\u001b[0m Network 05-monitoring_front-tier   \u001b[32mCreated\u001b[0m                              \u001b[34m0.1s \u001b[0m\n",
      " \u001b[32m✔\u001b[0m Network 05-monitoring_back-tier    \u001b[32mCreated\u001b[0m                              \u001b[34m0.1s \u001b[0m\n",
      " \u001b[33m⠹\u001b[0m Container 05-monitoring-grafana-1  Creating                             \u001b[34m0.3s \u001b[0m\n",
      " \u001b[33m⠹\u001b[0m Container 05-monitoring-adminer-1  Creating                             \u001b[34m0.3s \u001b[0m\n",
      " \u001b[33m⠹\u001b[0m Container 05-monitoring-db-1       Cr...                                \u001b[34m0.3s \u001b[0m\n",
      "\u001b[?25h\u001b[1A\u001b[1A\u001b[1A\u001b[1A\u001b[1A\u001b[1A\u001b[0G\u001b[?25l[+] Running 2/5\n",
      " \u001b[32m✔\u001b[0m Network 05-monitoring_front-tier   \u001b[32mCreated\u001b[0m                              \u001b[34m0.1s \u001b[0m\n",
      " \u001b[32m✔\u001b[0m Network 05-monitoring_back-tier    \u001b[32mCreated\u001b[0m                              \u001b[34m0.1s \u001b[0m\n",
      " \u001b[33m⠸\u001b[0m Container 05-monitoring-grafana-1  Creating                             \u001b[34m0.4s \u001b[0m\n",
      " \u001b[33m⠸\u001b[0m Container 05-monitoring-adminer-1  Creating                             \u001b[34m0.4s \u001b[0m\n",
      " \u001b[33m⠸\u001b[0m Container 05-monitoring-db-1       Cr...                                \u001b[34m0.4s \u001b[0m\n",
      "\u001b[?25h\u001b[1A\u001b[1A\u001b[1A\u001b[1A\u001b[1A\u001b[1A\u001b[0G\u001b[?25l[+] Running 2/5\n",
      " \u001b[32m✔\u001b[0m Network 05-monitoring_front-tier   \u001b[32mCreated\u001b[0m                              \u001b[34m0.1s \u001b[0m\n",
      " \u001b[32m✔\u001b[0m Network 05-monitoring_back-tier    \u001b[32mCreated\u001b[0m                              \u001b[34m0.1s \u001b[0m\n",
      " \u001b[33m⠼\u001b[0m Container 05-monitoring-grafana-1  Creating                             \u001b[34m0.5s \u001b[0m\n",
      " \u001b[33m⠼\u001b[0m Container 05-monitoring-adminer-1  Creating                             \u001b[34m0.5s \u001b[0m\n",
      " \u001b[33m⠼\u001b[0m Container 05-monitoring-db-1       Cr...                                \u001b[34m0.5s \u001b[0m\n",
      "\u001b[?25h\u001b[1A\u001b[1A\u001b[1A\u001b[1A\u001b[1A\u001b[1A\u001b[0G\u001b[?25l[+] Running 3/5\n",
      " \u001b[32m✔\u001b[0m Network 05-monitoring_front-tier   \u001b[32mCreated\u001b[0m                              \u001b[34m0.1s \u001b[0m\n",
      " \u001b[32m✔\u001b[0m Network 05-monitoring_back-tier    \u001b[32mCreated\u001b[0m                              \u001b[34m0.1s \u001b[0m\n",
      " \u001b[33m⠴\u001b[0m Container 05-monitoring-grafana-1  Creating                             \u001b[34m0.6s \u001b[0m\n",
      " \u001b[32m✔\u001b[0m Container 05-monitoring-adminer-1  \u001b[32mCreated\u001b[0m                              \u001b[34m0.6s \u001b[0m\n",
      " \u001b[33m⠴\u001b[0m Container 05-monitoring-db-1       Cr...                                \u001b[34m0.6s \u001b[0m\n",
      "\u001b[?25h\u001b[1A\u001b[1A\u001b[1A\u001b[1A\u001b[1A\u001b[1A\u001b[0G\u001b[?25l[+] Running 2/5\n",
      " \u001b[32m✔\u001b[0m Network 05-monitoring_front-tier   \u001b[32mCreated\u001b[0m                              \u001b[34m0.1s \u001b[0m\n",
      " \u001b[32m✔\u001b[0m Network 05-monitoring_back-tier    \u001b[32mCreated\u001b[0m                              \u001b[34m0.1s \u001b[0m\n",
      " \u001b[33m⠦\u001b[0m Container 05-monitoring-grafana-1  Starting                             \u001b[34m0.7s \u001b[0m\n",
      " \u001b[33m⠴\u001b[0m Container 05-monitoring-adminer-1  Starting                             \u001b[34m0.7s \u001b[0m\n",
      " \u001b[33m⠦\u001b[0m Container 05-monitoring-db-1       St...                                \u001b[34m0.7s \u001b[0m\n",
      "\u001b[?25h\u001b[1A\u001b[1A\u001b[1A\u001b[1A\u001b[1A\u001b[1A\u001b[0G\u001b[?25l[+] Running 2/5\n",
      " \u001b[32m✔\u001b[0m Network 05-monitoring_front-tier   \u001b[32mCreated\u001b[0m                              \u001b[34m0.1s \u001b[0m\n",
      " \u001b[32m✔\u001b[0m Network 05-monitoring_back-tier    \u001b[32mCreated\u001b[0m                              \u001b[34m0.1s \u001b[0m\n",
      " \u001b[33m⠧\u001b[0m Container 05-monitoring-grafana-1  Starting                             \u001b[34m0.8s \u001b[0m\n",
      " \u001b[33m⠦\u001b[0m Container 05-monitoring-adminer-1  Starting                             \u001b[34m0.8s \u001b[0m\n",
      " \u001b[33m⠧\u001b[0m Container 05-monitoring-db-1       St...                                \u001b[34m0.8s \u001b[0m\n",
      "\u001b[?25h\u001b[1A\u001b[1A\u001b[1A\u001b[1A\u001b[1A\u001b[1A\u001b[0G\u001b[?25l[+] Running 2/5\n",
      " \u001b[32m✔\u001b[0m Network 05-monitoring_front-tier   \u001b[32mCreated\u001b[0m                              \u001b[34m0.1s \u001b[0m\n",
      " \u001b[32m✔\u001b[0m Network 05-monitoring_back-tier    \u001b[32mCreated\u001b[0m                              \u001b[34m0.1s \u001b[0m\n",
      " \u001b[33m⠇\u001b[0m Container 05-monitoring-grafana-1  Starting                             \u001b[34m0.9s \u001b[0m\n",
      " \u001b[33m⠧\u001b[0m Container 05-monitoring-adminer-1  Starting                             \u001b[34m0.9s \u001b[0m\n",
      " \u001b[33m⠇\u001b[0m Container 05-monitoring-db-1       St...                                \u001b[34m0.9s \u001b[0m\n",
      "\u001b[?25h\u001b[1A\u001b[1A\u001b[1A\u001b[1A\u001b[1A\u001b[1A\u001b[0G\u001b[?25l[+] Running 2/5\n",
      " \u001b[32m✔\u001b[0m Network 05-monitoring_front-tier   \u001b[32mCreated\u001b[0m                              \u001b[34m0.1s \u001b[0m\n",
      " \u001b[32m✔\u001b[0m Network 05-monitoring_back-tier    \u001b[32mCreated\u001b[0m                              \u001b[34m0.1s \u001b[0m\n",
      " \u001b[33m⠏\u001b[0m Container 05-monitoring-grafana-1  Starting                             \u001b[34m1.0s \u001b[0m\n",
      " \u001b[33m⠇\u001b[0m Container 05-monitoring-adminer-1  Starting                             \u001b[34m1.0s \u001b[0m\n",
      " \u001b[33m⠏\u001b[0m Container 05-monitoring-db-1       St...                                \u001b[34m1.0s \u001b[0m\n",
      "\u001b[?25h\u001b[1A\u001b[1A\u001b[1A\u001b[1A\u001b[1A\u001b[1A\u001b[0G\u001b[?25l[+] Running 2/5\n",
      " \u001b[32m✔\u001b[0m Network 05-monitoring_front-tier   \u001b[32mCreated\u001b[0m                              \u001b[34m0.1s \u001b[0m\n",
      " \u001b[32m✔\u001b[0m Network 05-monitoring_back-tier    \u001b[32mCreated\u001b[0m                              \u001b[34m0.1s \u001b[0m\n",
      " \u001b[33m⠋\u001b[0m Container 05-monitoring-grafana-1  Starting                             \u001b[34m1.1s \u001b[0m\n",
      " \u001b[33m⠏\u001b[0m Container 05-monitoring-adminer-1  Starting                             \u001b[34m1.1s \u001b[0m\n",
      " \u001b[33m⠋\u001b[0m Container 05-monitoring-db-1       St...                                \u001b[34m1.1s \u001b[0m\n",
      "\u001b[?25h\u001b[1A\u001b[1A\u001b[1A\u001b[1A\u001b[1A\u001b[1A\u001b[0G\u001b[?25l[+] Running 2/5\n",
      " \u001b[32m✔\u001b[0m Network 05-monitoring_front-tier   \u001b[32mCreated\u001b[0m                              \u001b[34m0.1s \u001b[0m\n",
      " \u001b[32m✔\u001b[0m Network 05-monitoring_back-tier    \u001b[32mCreated\u001b[0m                              \u001b[34m0.1s \u001b[0m\n",
      " \u001b[33m⠙\u001b[0m Container 05-monitoring-grafana-1  Starting                             \u001b[34m1.2s \u001b[0m\n",
      " \u001b[33m⠋\u001b[0m Container 05-monitoring-adminer-1  Starting                             \u001b[34m1.2s \u001b[0m\n",
      " \u001b[33m⠙\u001b[0m Container 05-monitoring-db-1       St...                                \u001b[34m1.2s \u001b[0m\n",
      "\u001b[?25h\u001b[1A\u001b[1A\u001b[1A\u001b[1A\u001b[1A\u001b[1A\u001b[0G\u001b[?25l[+] Running 2/5\n",
      " \u001b[32m✔\u001b[0m Network 05-monitoring_front-tier   \u001b[32mCreated\u001b[0m                              \u001b[34m0.1s \u001b[0m\n",
      " \u001b[32m✔\u001b[0m Network 05-monitoring_back-tier    \u001b[32mCreated\u001b[0m                              \u001b[34m0.1s \u001b[0m\n",
      " \u001b[33m⠹\u001b[0m Container 05-monitoring-grafana-1  Starting                             \u001b[34m1.3s \u001b[0m\n",
      " \u001b[33m⠙\u001b[0m Container 05-monitoring-adminer-1  Starting                             \u001b[34m1.3s \u001b[0m\n",
      " \u001b[33m⠹\u001b[0m Container 05-monitoring-db-1       St...                                \u001b[34m1.3s \u001b[0m\n",
      "\u001b[?25h\u001b[1A\u001b[1A\u001b[1A\u001b[1A\u001b[1A\u001b[1A\u001b[0G\u001b[?25l[+] Running 2/5\n",
      " \u001b[32m✔\u001b[0m Network 05-monitoring_front-tier   \u001b[32mCreated\u001b[0m                              \u001b[34m0.1s \u001b[0m\n",
      " \u001b[32m✔\u001b[0m Network 05-monitoring_back-tier    \u001b[32mCreated\u001b[0m                              \u001b[34m0.1s \u001b[0m\n",
      " \u001b[33m⠸\u001b[0m Container 05-monitoring-grafana-1  Starting                             \u001b[34m1.4s \u001b[0m\n",
      " \u001b[33m⠹\u001b[0m Container 05-monitoring-adminer-1  Starting                             \u001b[34m1.4s \u001b[0m\n",
      " \u001b[33m⠸\u001b[0m Container 05-monitoring-db-1       St...                                \u001b[34m1.4s \u001b[0m\n",
      "\u001b[?25h\u001b[1A\u001b[1A\u001b[1A\u001b[1A\u001b[1A\u001b[1A\u001b[0G\u001b[?25l[+] Running 2/5\n",
      " \u001b[32m✔\u001b[0m Network 05-monitoring_front-tier   \u001b[32mCreated\u001b[0m                              \u001b[34m0.1s \u001b[0m\n",
      " \u001b[32m✔\u001b[0m Network 05-monitoring_back-tier    \u001b[32mCreated\u001b[0m                              \u001b[34m0.1s \u001b[0m\n",
      " \u001b[33m⠼\u001b[0m Container 05-monitoring-grafana-1  Starting                             \u001b[34m1.5s \u001b[0m\n",
      " \u001b[33m⠸\u001b[0m Container 05-monitoring-adminer-1  Starting                             \u001b[34m1.5s \u001b[0m\n",
      " \u001b[33m⠼\u001b[0m Container 05-monitoring-db-1       St...                                \u001b[34m1.5s \u001b[0m\n",
      "\u001b[?25h\u001b[1A\u001b[1A\u001b[1A\u001b[1A\u001b[1A\u001b[1A\u001b[0G\u001b[?25l[+] Running 2/5\n",
      " \u001b[32m✔\u001b[0m Network 05-monitoring_front-tier   \u001b[32mCreated\u001b[0m                              \u001b[34m0.1s \u001b[0m\n",
      " \u001b[32m✔\u001b[0m Network 05-monitoring_back-tier    \u001b[32mCreated\u001b[0m                              \u001b[34m0.1s \u001b[0m\n",
      " \u001b[33m⠴\u001b[0m Container 05-monitoring-grafana-1  Starting                             \u001b[34m1.6s \u001b[0m\n",
      " \u001b[33m⠼\u001b[0m Container 05-monitoring-adminer-1  Starting                             \u001b[34m1.6s \u001b[0m\n",
      " \u001b[33m⠴\u001b[0m Container 05-monitoring-db-1       St...                                \u001b[34m1.6s \u001b[0m\n",
      "\u001b[?25h\u001b[1A\u001b[1A\u001b[1A\u001b[1A\u001b[1A\u001b[1A\u001b[0G\u001b[?25l[+] Running 2/5\n",
      " \u001b[32m✔\u001b[0m Network 05-monitoring_front-tier   \u001b[32mCreated\u001b[0m                              \u001b[34m0.1s \u001b[0m\n",
      " \u001b[32m✔\u001b[0m Network 05-monitoring_back-tier    \u001b[32mCreated\u001b[0m                              \u001b[34m0.1s \u001b[0m\n",
      " \u001b[33m⠦\u001b[0m Container 05-monitoring-grafana-1  Starting                             \u001b[34m1.7s \u001b[0m\n",
      " \u001b[33m⠴\u001b[0m Container 05-monitoring-adminer-1  Starting                             \u001b[34m1.7s \u001b[0m\n",
      " \u001b[33m⠦\u001b[0m Container 05-monitoring-db-1       St...                                \u001b[34m1.7s \u001b[0m\n",
      "\u001b[?25h\u001b[1A\u001b[1A\u001b[1A\u001b[1A\u001b[1A\u001b[1A\u001b[0G\u001b[?25l[+] Running 2/5\n",
      " \u001b[32m✔\u001b[0m Network 05-monitoring_front-tier   \u001b[32mCreated\u001b[0m                              \u001b[34m0.1s \u001b[0m\n",
      " \u001b[32m✔\u001b[0m Network 05-monitoring_back-tier    \u001b[32mCreated\u001b[0m                              \u001b[34m0.1s \u001b[0m\n",
      " \u001b[33m⠧\u001b[0m Container 05-monitoring-grafana-1  Starting                             \u001b[34m1.8s \u001b[0m\n",
      " \u001b[33m⠦\u001b[0m Container 05-monitoring-adminer-1  Starting                             \u001b[34m1.8s \u001b[0m\n",
      " \u001b[33m⠧\u001b[0m Container 05-monitoring-db-1       St...                                \u001b[34m1.8s \u001b[0m\n",
      "\u001b[?25h\u001b[1A\u001b[1A\u001b[1A\u001b[1A\u001b[1A\u001b[1A\u001b[0G\u001b[?25l[+] Running 2/5\n",
      " \u001b[32m✔\u001b[0m Network 05-monitoring_front-tier   \u001b[32mCreated\u001b[0m                              \u001b[34m0.1s \u001b[0m\n",
      " \u001b[32m✔\u001b[0m Network 05-monitoring_back-tier    \u001b[32mCreated\u001b[0m                              \u001b[34m0.1s \u001b[0m\n",
      " \u001b[33m⠇\u001b[0m Container 05-monitoring-grafana-1  Starting                             \u001b[34m1.9s \u001b[0m\n",
      " \u001b[33m⠧\u001b[0m Container 05-monitoring-adminer-1  Starting                             \u001b[34m1.9s \u001b[0m\n",
      " \u001b[33m⠇\u001b[0m Container 05-monitoring-db-1       St...                                \u001b[34m1.9s \u001b[0m\n",
      "\u001b[?25h\u001b[1A\u001b[1A\u001b[1A\u001b[1A\u001b[1A\u001b[1A\u001b[0G\u001b[?25l[+] Running 2/5\n",
      " \u001b[32m✔\u001b[0m Network 05-monitoring_front-tier   \u001b[32mCreated\u001b[0m                              \u001b[34m0.1s \u001b[0m\n",
      " \u001b[32m✔\u001b[0m Network 05-monitoring_back-tier    \u001b[32mCreated\u001b[0m                              \u001b[34m0.1s \u001b[0m\n",
      " \u001b[33m⠏\u001b[0m Container 05-monitoring-grafana-1  Starting                             \u001b[34m2.0s \u001b[0m\n",
      " \u001b[33m⠇\u001b[0m Container 05-monitoring-adminer-1  Starting                             \u001b[34m2.0s \u001b[0m\n",
      " \u001b[33m⠏\u001b[0m Container 05-monitoring-db-1       St...                                \u001b[34m2.0s \u001b[0m\n",
      "\u001b[?25h\u001b[1A\u001b[1A\u001b[1A\u001b[1A\u001b[1A\u001b[1A\u001b[0G\u001b[?25l[+] Running 3/5\n",
      " \u001b[32m✔\u001b[0m Network 05-monitoring_front-tier   \u001b[32mCreated\u001b[0m                              \u001b[34m0.1s \u001b[0m\n",
      " \u001b[32m✔\u001b[0m Network 05-monitoring_back-tier    \u001b[32mCreated\u001b[0m                              \u001b[34m0.1s \u001b[0m\n",
      " \u001b[33m⠋\u001b[0m Container 05-monitoring-grafana-1  Starting                             \u001b[34m2.1s \u001b[0m\n",
      " \u001b[33m⠏\u001b[0m Container 05-monitoring-adminer-1  Starting                             \u001b[34m2.1s \u001b[0m\n",
      " \u001b[32m✔\u001b[0m Container 05-monitoring-db-1       \u001b[32mSt...\u001b[0m                                \u001b[34m2.0s \u001b[0m\n",
      "\u001b[?25h\u001b[1A\u001b[1A\u001b[1A\u001b[1A\u001b[1A\u001b[1A\u001b[0G\u001b[?25l[+] Running 4/5\n",
      " \u001b[32m✔\u001b[0m Network 05-monitoring_front-tier   \u001b[32mCreated\u001b[0m                              \u001b[34m0.1s \u001b[0m\n",
      " \u001b[32m✔\u001b[0m Network 05-monitoring_back-tier    \u001b[32mCreated\u001b[0m                              \u001b[34m0.1s \u001b[0m\n",
      " \u001b[32m✔\u001b[0m Container 05-monitoring-grafana-1  \u001b[32mStarted\u001b[0m                              \u001b[34m2.2s \u001b[0m\n",
      " \u001b[33m⠋\u001b[0m Container 05-monitoring-adminer-1  Starting                             \u001b[34m2.2s \u001b[0m\n",
      " \u001b[32m✔\u001b[0m Container 05-monitoring-db-1       \u001b[32mSt...\u001b[0m                                \u001b[34m2.0s \u001b[0m\n",
      "\u001b[?25h\u001b[1A\u001b[1A\u001b[1A\u001b[1A\u001b[1A\u001b[1A\u001b[0G\u001b[?25l\u001b[34m[+] Running 5/5\u001b[0m\n",
      " \u001b[32m✔\u001b[0m Network 05-monitoring_front-tier   \u001b[32mCreated\u001b[0m                              \u001b[34m0.1s \u001b[0m\n",
      " \u001b[32m✔\u001b[0m Network 05-monitoring_back-tier    \u001b[32mCreated\u001b[0m                              \u001b[34m0.1s \u001b[0m\n",
      " \u001b[32m✔\u001b[0m Container 05-monitoring-grafana-1  \u001b[32mStarted\u001b[0m                              \u001b[34m2.2s \u001b[0m\n",
      " \u001b[32m✔\u001b[0m Container 05-monitoring-adminer-1  \u001b[32mStarted\u001b[0m                              \u001b[34m2.2s \u001b[0m\n",
      " \u001b[32m✔\u001b[0m Container 05-monitoring-db-1       \u001b[32mSt...\u001b[0m                                \u001b[34m2.0s \u001b[0m\n",
      "\u001b[?25h"
     ]
    }
   ],
   "source": [
    "# Q2 Q3\n",
    "!docker-compose up --build -d"
   ]
  },
  {
   "cell_type": "code",
   "execution_count": 10,
   "metadata": {},
   "outputs": [
    {
     "name": "stdout",
     "output_type": "stream",
     "text": [
      "host=localhost port=5432 dbname=postgres user=root password=example\n",
      "2024-06-18 22:51:04,577 [WARNING]: Column ehail_fee have different types in reference object and current float64. Returning type from reference\n",
      "2024-06-18 22:51:04,881 [INFO]: data sent\n",
      "2024-06-18 22:51:04,896 [WARNING]: Column ehail_fee have different types in reference object and current float64. Returning type from reference\n",
      "2024-06-18 22:51:24,539 [INFO]: data sent\n",
      "2024-06-18 22:51:24,549 [WARNING]: Column ehail_fee have different types in reference object and current float64. Returning type from reference\n",
      "2024-06-18 22:51:24,805 [INFO]: data sent\n",
      "2024-06-18 22:51:24,818 [WARNING]: Column ehail_fee have different types in reference object and current float64. Returning type from reference\n",
      "2024-06-18 22:51:44,523 [INFO]: data sent\n",
      "2024-06-18 22:51:44,537 [WARNING]: Column ehail_fee have different types in reference object and current float64. Returning type from reference\n",
      "2024-06-18 22:51:44,948 [INFO]: data sent\n",
      "2024-06-18 22:51:44,963 [WARNING]: Column ehail_fee have different types in reference object and current float64. Returning type from reference\n",
      "2024-06-18 22:52:04,539 [INFO]: data sent\n",
      "2024-06-18 22:52:04,570 [WARNING]: Column ehail_fee have different types in reference object and current float64. Returning type from reference\n",
      "2024-06-18 22:52:05,078 [INFO]: data sent\n",
      "2024-06-18 22:52:05,097 [WARNING]: Column ehail_fee have different types in reference object and current float64. Returning type from reference\n",
      "2024-06-18 22:52:24,527 [INFO]: data sent\n",
      "2024-06-18 22:52:24,541 [WARNING]: Column ehail_fee have different types in reference object and current float64. Returning type from reference\n",
      "2024-06-18 22:52:24,921 [INFO]: data sent\n",
      "2024-06-18 22:52:24,933 [WARNING]: Column ehail_fee have different types in reference object and current float64. Returning type from reference\n",
      "2024-06-18 22:52:44,530 [INFO]: data sent\n",
      "2024-06-18 22:52:44,545 [WARNING]: Column ehail_fee have different types in reference object and current float64. Returning type from reference\n",
      "2024-06-18 22:52:44,855 [INFO]: data sent\n",
      "2024-06-18 22:52:44,869 [WARNING]: Column ehail_fee have different types in reference object and current float64. Returning type from reference\n",
      "2024-06-18 22:53:04,539 [INFO]: data sent\n",
      "2024-06-18 22:53:04,553 [WARNING]: Column ehail_fee have different types in reference object and current float64. Returning type from reference\n",
      "2024-06-18 22:53:04,864 [INFO]: data sent\n",
      "2024-06-18 22:53:04,878 [WARNING]: Column ehail_fee have different types in reference object and current float64. Returning type from reference\n",
      "2024-06-18 22:53:24,539 [INFO]: data sent\n",
      "2024-06-18 22:53:24,553 [WARNING]: Column ehail_fee have different types in reference object and current float64. Returning type from reference\n",
      "2024-06-18 22:53:24,984 [INFO]: data sent\n",
      "2024-06-18 22:53:25,013 [WARNING]: Column ehail_fee have different types in reference object and current float64. Returning type from reference\n",
      "2024-06-18 22:53:44,539 [INFO]: data sent\n",
      "2024-06-18 22:53:44,549 [WARNING]: Column ehail_fee have different types in reference object and current float64. Returning type from reference\n",
      "2024-06-18 22:53:44,934 [INFO]: data sent\n",
      "2024-06-18 22:53:44,950 [WARNING]: Column ehail_fee have different types in reference object and current float64. Returning type from reference\n",
      "2024-06-18 22:54:04,539 [INFO]: data sent\n",
      "2024-06-18 22:54:04,553 [WARNING]: Column ehail_fee have different types in reference object and current float64. Returning type from reference\n",
      "2024-06-18 22:54:04,892 [INFO]: data sent\n",
      "2024-06-18 22:54:04,906 [WARNING]: Column ehail_fee have different types in reference object and current float64. Returning type from reference\n",
      "2024-06-18 22:54:24,534 [INFO]: data sent\n",
      "2024-06-18 22:54:24,550 [WARNING]: Column ehail_fee have different types in reference object and current float64. Returning type from reference\n",
      "2024-06-18 22:54:24,893 [INFO]: data sent\n",
      "2024-06-18 22:54:24,909 [WARNING]: Column ehail_fee have different types in reference object and current float64. Returning type from reference\n",
      "2024-06-18 22:54:44,539 [INFO]: data sent\n",
      "2024-06-18 22:54:44,550 [WARNING]: Column ehail_fee have different types in reference object and current float64. Returning type from reference\n",
      "2024-06-18 22:54:44,919 [INFO]: data sent\n",
      "2024-06-18 22:54:44,930 [WARNING]: Column ehail_fee have different types in reference object and current float64. Returning type from reference\n",
      "2024-06-18 22:55:04,539 [INFO]: data sent\n",
      "2024-06-18 22:55:04,553 [WARNING]: Column ehail_fee have different types in reference object and current float64. Returning type from reference\n",
      "2024-06-18 22:55:05,031 [INFO]: data sent\n",
      "2024-06-18 22:55:05,045 [WARNING]: Column ehail_fee have different types in reference object and current float64. Returning type from reference\n",
      "2024-06-18 22:55:24,539 [INFO]: data sent\n",
      "2024-06-18 22:55:24,554 [WARNING]: Column ehail_fee have different types in reference object and current float64. Returning type from reference\n",
      "2024-06-18 22:55:24,955 [INFO]: data sent\n",
      "2024-06-18 22:55:24,969 [WARNING]: Column ehail_fee have different types in reference object and current float64. Returning type from reference\n",
      "2024-06-18 22:55:44,532 [INFO]: data sent\n",
      "2024-06-18 22:55:44,547 [WARNING]: Column ehail_fee have different types in reference object and current float64. Returning type from reference\n",
      "2024-06-18 22:55:44,876 [INFO]: data sent\n",
      "2024-06-18 22:55:44,889 [WARNING]: Column ehail_fee have different types in reference object and current float64. Returning type from reference\n",
      "2024-06-18 22:56:04,523 [INFO]: data sent\n",
      "2024-06-18 22:56:04,534 [WARNING]: Column ehail_fee have different types in reference object and current float64. Returning type from reference\n",
      "2024-06-18 22:56:04,948 [INFO]: data sent\n"
     ]
    }
   ],
   "source": [
    "# Q2 Q3\n",
    "!python evidently_metrics_calculation.py"
   ]
  },
  {
   "cell_type": "code",
   "execution_count": 15,
   "metadata": {},
   "outputs": [
    {
     "name": "stdout",
     "output_type": "stream",
     "text": [
      "maximum value of metric quantile: (14.2,)\n"
     ]
    }
   ],
   "source": [
    "# Q3. What is the maximum value of metric quantile = 0.5 on the \"fare_amount\" column during March 2024 (calculated daily)?\n",
    "DB_USER=os.getenv(\"DB_USER\")\n",
    "DB_PASSWORD=os.getenv(\"DB_PASSWORD\")\n",
    "DB_PORT=os.getenv(\"DB_PORT\")\n",
    "DB_NAME=os.getenv(\"DB_NAME\")\n",
    "\n",
    "with psycopg.connect(f\"host=localhost port={DB_PORT} dbname={DB_NAME} user={DB_USER} password={DB_PASSWORD}\", autocommit=True) as conn:\n",
    "    res = conn.execute(\"select max(fare_amount_quantile) from dummy_metrics\")\n",
    "    print(f\"maximum value of metric quantile: {res.fetchone()}\")"
   ]
  },
  {
   "cell_type": "markdown",
   "metadata": {},
   "source": [
    "#Q4. Where to place a dashboard config file? 05-monitoring/config"
   ]
  },
  {
   "cell_type": "code",
   "execution_count": 1,
   "metadata": {},
   "outputs": [
    {
     "name": "stdout",
     "output_type": "stream",
     "text": [
      "\u001b[33mWARN\u001b[0m[0000] /workspaces/mlops-zoomcamp/05-monitoring/docker-compose.yml: `version` is obsolete \n",
      "\u001b[1A\u001b[1B\u001b[0G\u001b[?25l[+] Running 0/0\n",
      " \u001b[33m⠋\u001b[0m Container 05-monitoring-db-1       St...                                \u001b[34m0.1s \u001b[0m\n",
      " \u001b[33m⠋\u001b[0m Container 05-monitoring-adminer-1  Stopping                             \u001b[34m0.1s \u001b[0m\n",
      " \u001b[33m⠋\u001b[0m Container 05-monitoring-grafana-1  Stopping                             \u001b[34m0.1s \u001b[0m\n",
      "\u001b[?25h\u001b[1A\u001b[1A\u001b[1A\u001b[1A\u001b[0G\u001b[?25l[+] Running 0/3\n",
      " \u001b[33m⠙\u001b[0m Container 05-monitoring-db-1       St...                                \u001b[34m0.2s \u001b[0m\n",
      " \u001b[33m⠙\u001b[0m Container 05-monitoring-adminer-1  Stopping                             \u001b[34m0.2s \u001b[0m\n",
      " \u001b[33m⠙\u001b[0m Container 05-monitoring-grafana-1  Stopping                             \u001b[34m0.2s \u001b[0m\n",
      "\u001b[?25h\u001b[1A\u001b[1A\u001b[1A\u001b[1A\u001b[0G\u001b[?25l[+] Running 0/3\n",
      " \u001b[33m⠹\u001b[0m Container 05-monitoring-db-1       St...                                \u001b[34m0.3s \u001b[0m\n",
      " \u001b[33m⠹\u001b[0m Container 05-monitoring-adminer-1  Stopping                             \u001b[34m0.3s \u001b[0m\n",
      " \u001b[33m⠹\u001b[0m Container 05-monitoring-grafana-1  Stopping                             \u001b[34m0.3s \u001b[0m\n",
      "\u001b[?25h\u001b[1A\u001b[1A\u001b[1A\u001b[1A\u001b[0G\u001b[?25l[+] Running 0/3\n",
      " \u001b[33m⠸\u001b[0m Container 05-monitoring-db-1       St...                                \u001b[34m0.4s \u001b[0m\n",
      " \u001b[33m⠸\u001b[0m Container 05-monitoring-adminer-1  Stopping                             \u001b[34m0.4s \u001b[0m\n",
      " \u001b[33m⠸\u001b[0m Container 05-monitoring-grafana-1  Stopping                             \u001b[34m0.4s \u001b[0m\n",
      "\u001b[?25h\u001b[1A\u001b[1A\u001b[1A\u001b[1A\u001b[0G\u001b[?25l[+] Running 0/3\n",
      " \u001b[33m⠼\u001b[0m Container 05-monitoring-db-1       St...                                \u001b[34m0.5s \u001b[0m\n",
      " \u001b[33m⠼\u001b[0m Container 05-monitoring-adminer-1  Stopping                             \u001b[34m0.5s \u001b[0m\n",
      " \u001b[33m⠼\u001b[0m Container 05-monitoring-grafana-1  Stopping                             \u001b[34m0.5s \u001b[0m\n",
      "\u001b[?25h\u001b[1A\u001b[1A\u001b[1A\u001b[1A\u001b[0G\u001b[?25l[+] Running 0/3\n",
      " \u001b[33m⠴\u001b[0m Container 05-monitoring-db-1       St...                                \u001b[34m0.6s \u001b[0m\n",
      " \u001b[33m⠴\u001b[0m Container 05-monitoring-adminer-1  Stopping                             \u001b[34m0.6s \u001b[0m\n",
      " \u001b[33m⠴\u001b[0m Container 05-monitoring-grafana-1  Stopping                             \u001b[34m0.6s \u001b[0m\n",
      "\u001b[?25h\u001b[1A\u001b[1A\u001b[1A\u001b[1A\u001b[0G\u001b[?25l[+] Running 0/3\n",
      " \u001b[33m⠦\u001b[0m Container 05-monitoring-db-1       Re...                                \u001b[34m0.7s \u001b[0m\n",
      " \u001b[33m⠦\u001b[0m Container 05-monitoring-adminer-1  Stopping                             \u001b[34m0.7s \u001b[0m\n",
      " \u001b[33m⠦\u001b[0m Container 05-monitoring-grafana-1  Stopping                             \u001b[34m0.7s \u001b[0m\n",
      "\u001b[?25h\u001b[1A\u001b[1A\u001b[1A\u001b[1A\u001b[0G\u001b[?25l[+] Running 1/3\n",
      " \u001b[32m✔\u001b[0m Container 05-monitoring-db-1       \u001b[32mRe...\u001b[0m                                \u001b[34m0.8s \u001b[0m\n",
      " \u001b[33m⠧\u001b[0m Container 05-monitoring-adminer-1  Removing                             \u001b[34m0.8s \u001b[0m\n",
      " \u001b[33m⠧\u001b[0m Container 05-monitoring-grafana-1  Stopping                             \u001b[34m0.8s \u001b[0m\n",
      "\u001b[?25h\u001b[1A\u001b[1A\u001b[1A\u001b[1A\u001b[0G\u001b[?25l[+] Running 2/3\n",
      " \u001b[32m✔\u001b[0m Container 05-monitoring-db-1       \u001b[32mRe...\u001b[0m                                \u001b[34m0.8s \u001b[0m\n",
      " \u001b[32m✔\u001b[0m Container 05-monitoring-adminer-1  \u001b[32mRemoved\u001b[0m                              \u001b[34m0.8s \u001b[0m\n",
      " \u001b[33m⠇\u001b[0m Container 05-monitoring-grafana-1  Removing                             \u001b[34m0.9s \u001b[0m\n",
      "\u001b[?25h\u001b[1A\u001b[1A\u001b[1A\u001b[1A\u001b[0G\u001b[?25l\u001b[34m[+] Running 3/3\u001b[0m\n",
      " \u001b[32m✔\u001b[0m Container 05-monitoring-db-1       \u001b[32mRe...\u001b[0m                                \u001b[34m0.8s \u001b[0m\n",
      " \u001b[32m✔\u001b[0m Container 05-monitoring-adminer-1  \u001b[32mRemoved\u001b[0m                              \u001b[34m0.8s \u001b[0m\n",
      " \u001b[32m✔\u001b[0m Container 05-monitoring-grafana-1  \u001b[32mRemoved\u001b[0m                              \u001b[34m0.9s \u001b[0m\n",
      " \u001b[33m⠋\u001b[0m Network 05-monitoring_front-tier   Removing                             \u001b[34m0.1s \u001b[0m\n",
      " \u001b[33m⠋\u001b[0m Network 05-monitoring_back-tier    Removing                             \u001b[34m0.1s \u001b[0m\n",
      "\u001b[?25h\u001b[1A\u001b[1A\u001b[1A\u001b[1A\u001b[1A\u001b[1A\u001b[0G\u001b[?25l[+] Running 4/5\n",
      " \u001b[32m✔\u001b[0m Container 05-monitoring-db-1       \u001b[32mRe...\u001b[0m                                \u001b[34m0.8s \u001b[0m\n",
      " \u001b[32m✔\u001b[0m Container 05-monitoring-adminer-1  \u001b[32mRemoved\u001b[0m                              \u001b[34m0.8s \u001b[0m\n",
      " \u001b[32m✔\u001b[0m Container 05-monitoring-grafana-1  \u001b[32mRemoved\u001b[0m                              \u001b[34m0.9s \u001b[0m\n",
      " \u001b[33m⠙\u001b[0m Network 05-monitoring_front-tier   Removing                             \u001b[34m0.2s \u001b[0m\n",
      " \u001b[32m✔\u001b[0m Network 05-monitoring_back-tier    \u001b[32mRemoved\u001b[0m                              \u001b[34m0.1s \u001b[0m\n",
      "\u001b[?25h\u001b[1A\u001b[1A\u001b[1A\u001b[1A\u001b[1A\u001b[1A\u001b[0G\u001b[?25l\u001b[34m[+] Running 5/5\u001b[0m\n",
      " \u001b[32m✔\u001b[0m Container 05-monitoring-db-1       \u001b[32mRe...\u001b[0m                                \u001b[34m0.8s \u001b[0m\n",
      " \u001b[32m✔\u001b[0m Container 05-monitoring-adminer-1  \u001b[32mRemoved\u001b[0m                              \u001b[34m0.8s \u001b[0m\n",
      " \u001b[32m✔\u001b[0m Container 05-monitoring-grafana-1  \u001b[32mRemoved\u001b[0m                              \u001b[34m0.9s \u001b[0m\n",
      " \u001b[32m✔\u001b[0m Network 05-monitoring_front-tier   \u001b[32mRemoved\u001b[0m                              \u001b[34m0.2s \u001b[0m\n",
      " \u001b[32m✔\u001b[0m Network 05-monitoring_back-tier    \u001b[32mRemoved\u001b[0m                              \u001b[34m0.1s \u001b[0m\n",
      "\u001b[?25h"
     ]
    }
   ],
   "source": [
    "!docker-compose down"
   ]
  },
  {
   "cell_type": "code",
   "execution_count": null,
   "metadata": {},
   "outputs": [],
   "source": []
  }
 ],
 "metadata": {
  "kernelspec": {
   "display_name": "05-monitoring-mxyq8G57",
   "language": "python",
   "name": "python3"
  },
  "language_info": {
   "codemirror_mode": {
    "name": "ipython",
    "version": 3
   },
   "file_extension": ".py",
   "mimetype": "text/x-python",
   "name": "python",
   "nbconvert_exporter": "python",
   "pygments_lexer": "ipython3",
   "version": "3.10.13"
  }
 },
 "nbformat": 4,
 "nbformat_minor": 2
}
